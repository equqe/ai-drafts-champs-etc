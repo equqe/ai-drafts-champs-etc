{
 "cells": [
  {
   "cell_type": "code",
   "execution_count": 11,
   "metadata": {},
   "outputs": [
    {
     "name": "stdout",
     "output_type": "stream",
     "text": [
      "F1 мера Random Forest: 0.9284635955831608\n",
      "              precision    recall  f1-score   support\n",
      "\n",
      "           0       1.00      0.97      0.98       187\n",
      "           1       0.92      0.97      0.94        70\n",
      "           2       0.86      0.86      0.86         7\n",
      "           3       0.87      1.00      0.93        13\n",
      "\n",
      "    accuracy                           0.97       277\n",
      "   macro avg       0.91      0.95      0.93       277\n",
      "weighted avg       0.97      0.97      0.97       277\n",
      "\n"
     ]
    }
   ],
   "source": [
    "import pandas as pd\n",
    "import numpy as np\n",
    "from sklearn.model_selection import train_test_split\n",
    "from sklearn.ensemble import RandomForestClassifier\n",
    "from imblearn.over_sampling import SMOTE\n",
    "from sklearn.metrics import f1_score, classification_report\n",
    "\n",
    "df_train = pd.read_csv('train.csv', index_col=0)\n",
    "df_test = pd.read_csv('test.csv', index_col=0)\n",
    "\n",
    "mapping = {'2':2, '3':3, '4':4,'больше': 5}\n",
    "df_train['doors_count'] = df_train['doors_count'].map(mapping)\n",
    "df_train['person_count'] = df_train['person_count'].map(mapping)\n",
    "df_test['doors_count'] = df_test['doors_count'].map(mapping)\n",
    "df_test['person_count'] = df_test['person_count'].map(mapping)\n",
    "\n",
    "X = df_train.drop([\"class\"], axis = 1)\n",
    "y = df_train[\"class\"]\n",
    "X_train, X_test, y_train, y_test = train_test_split(X, y, test_size=0.2, random_state=42)\n",
    "\n",
    "rf_clf = RandomForestClassifier(n_estimators=100, random_state=42)\n",
    "sm = SMOTE(random_state=42)\n",
    "X_train_res, y_train_res = sm.fit_resample(X_train, y_train)\n",
    "rf_clf.fit(X_train_res, y_train_res)\n",
    "\n",
    "y_pred_rf = rf_clf.predict(X_test)\n",
    "f1_rf = f1_score(y_test, y_pred_rf, average='macro')\n",
    "print(\"F1 мера Random Forest:\", f1_rf)\n",
    "print(classification_report(y_test, y_pred_rf))\n",
    "\n",
    "X_test_df = df_test.drop([\"class\"], axis=1)\n",
    "df_test[\"class\"] = rf_clf.predict(X_test_df)\n",
    "df_test.sort_index().to_csv(\"submit.csv\")\n"
   ]
  }
 ],
 "metadata": {
  "kernelspec": {
   "display_name": "Python 3",
   "language": "python",
   "name": "python3"
  },
  "language_info": {
   "codemirror_mode": {
    "name": "ipython",
    "version": 3
   },
   "file_extension": ".py",
   "mimetype": "text/x-python",
   "name": "python",
   "nbconvert_exporter": "python",
   "pygments_lexer": "ipython3",
   "version": "3.12.4"
  }
 },
 "nbformat": 4,
 "nbformat_minor": 2
}
